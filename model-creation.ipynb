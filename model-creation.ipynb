{
 "cells": [
  {
   "cell_type": "markdown",
   "metadata": {},
   "source": [
    "# Model creation workflow\n",
    "\n",
    "This notebook shows a sample workflow on how to create and train (with data from Azure blob storage) a machine learning model and upload it to Azure blob storage, where it can be consumed by the pipedesign api."
   ]
  },
  {
   "cell_type": "code",
   "execution_count": 1,
   "metadata": {},
   "outputs": [],
   "source": [
    "import os\n",
    "import json\n",
    "import pandas as pd\n",
    "from sklearn.metrics import accuracy_score\n",
    "from sklearn.model_selection import train_test_split\n",
    "from sklearn.naive_bayes import GaussianNB"
   ]
  },
  {
   "cell_type": "code",
   "execution_count": 2,
   "metadata": {},
   "outputs": [],
   "source": [
    "from src.ml import preprocessor\n",
    "from src.ml.features import pipe_features\n",
    "from src.infrastructure import blobhandler"
   ]
  },
  {
   "cell_type": "markdown",
   "metadata": {},
   "source": [
    "### Downloading training data from Azure blob storage"
   ]
  },
  {
   "cell_type": "code",
   "execution_count": 3,
   "metadata": {},
   "outputs": [
    {
     "name": "stderr",
     "output_type": "stream",
     "text": [
      "c:\\users\\669425\\documents\\python-projects\\pipedesign-ml\\pipedesign-ml\\lib\\site-packages\\pandas\\core\\frame.py:6692: FutureWarning: Sorting because non-concatenation axis is not aligned. A future version\n",
      "of pandas will change to not sort by default.\n",
      "\n",
      "To accept the future behavior, pass 'sort=False'.\n",
      "\n",
      "To retain the current behavior and silence the warning, pass 'sort=True'.\n",
      "\n",
      "  sort=sort)\n"
     ]
    }
   ],
   "source": [
    "handler = blobhandler.BlobHandler()\n",
    "proc = preprocessor.Preprocessor()\n",
    "blobs = handler.download_blobs(os.environ[\"CONTAINER_NAME_DATA\"], number_of_blobs=1000)\n",
    "training_data = proc.create_training_data(blobs)"
   ]
  },
  {
   "cell_type": "markdown",
   "metadata": {},
   "source": [
    "### Training a model and making a sample prediction"
   ]
  },
  {
   "cell_type": "code",
   "execution_count": 4,
   "metadata": {},
   "outputs": [
    {
     "data": {
      "text/plain": [
       "GaussianNB(priors=None, var_smoothing=1e-09)"
      ]
     },
     "execution_count": 4,
     "metadata": {},
     "output_type": "execute_result"
    }
   ],
   "source": [
    "X_train, X_test, y_train, y_test = train_test_split(training_data[pipe_features],\n",
    "    pd.factorize(training_data[\"viability.viable\"])[0], test_size=0.2, random_state=42)\n",
    "\n",
    "clf = GaussianNB()\n",
    "clf.fit(X_train, y_train)"
   ]
  },
  {
   "cell_type": "code",
   "execution_count": 5,
   "metadata": {},
   "outputs": [],
   "source": [
    "with open(\"data/json/0a234fea9682454facab730c0a7f83f0.json\") as json_file:\n",
    "    pipedesign_json = json.load(json_file)\n",
    "    \n",
    "pipedesign_sample = proc.flatten_pipesegments(pipedesign_json)[pipe_features]"
   ]
  },
  {
   "cell_type": "code",
   "execution_count": 6,
   "metadata": {},
   "outputs": [],
   "source": [
    "label = clf.predict(pipedesign_sample)\n",
    "prob = clf.predict_proba(pipedesign_sample)"
   ]
  },
  {
   "cell_type": "code",
   "execution_count": 7,
   "metadata": {},
   "outputs": [
    {
     "name": "stdout",
     "output_type": "stream",
     "text": [
      "Label: [1], confidence: [[7.89763809e-04 9.99210236e-01]]\n"
     ]
    }
   ],
   "source": [
    "print(\"Label: {}, confidence: {}\".format(label, prob))"
   ]
  },
  {
   "cell_type": "markdown",
   "metadata": {},
   "source": [
    "### Uploading a model to Azure blob storage (to be consumed by api)\n",
    "\n",
    "The handler takes care of pickling the model such that it can be stored as a blob. If `blob_name` already exists in the blob container, the existing model will be overwritten."
   ]
  },
  {
   "cell_type": "code",
   "execution_count": 8,
   "metadata": {},
   "outputs": [],
   "source": [
    "upload_success = handler.model_to_azure_blob(\n",
    "    model=clf,\n",
    "    container_name=os.environ[\"CONTAINER_NAME_MODELS\"],\n",
    "    blob_name=\"test_model_1_do_not_delete\"\n",
    ")"
   ]
  },
  {
   "cell_type": "code",
   "execution_count": 9,
   "metadata": {},
   "outputs": [
    {
     "name": "stdout",
     "output_type": "stream",
     "text": [
      "(True,)\n"
     ]
    }
   ],
   "source": [
    "print(upload_success)"
   ]
  }
 ],
 "metadata": {
  "kernelspec": {
   "display_name": "Python 3",
   "language": "python",
   "name": "python3"
  },
  "language_info": {
   "codemirror_mode": {
    "name": "ipython",
    "version": 3
   },
   "file_extension": ".py",
   "mimetype": "text/x-python",
   "name": "python",
   "nbconvert_exporter": "python",
   "pygments_lexer": "ipython3",
   "version": "3.7.2"
  }
 },
 "nbformat": 4,
 "nbformat_minor": 2
}
